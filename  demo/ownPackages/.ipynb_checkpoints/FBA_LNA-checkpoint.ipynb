{
 "cells": [
  {
   "cell_type": "code",
   "execution_count": 1,
   "metadata": {},
   "outputs": [],
   "source": [
    "import cobra"
   ]
  },
  {
   "cell_type": "markdown",
   "metadata": {
    "collapsed": true
   },
   "source": [
    "Quantities needed to calculate constraints"
   ]
  },
  {
   "cell_type": "code",
   "execution_count": 2,
   "metadata": {},
   "outputs": [],
   "source": [
    "DW = 3e-11 # average dry weight of log phase chlamy cell = 48 pg (Mitchell 1992)\n",
    "CPerStarch300 = 1800 # derived from starch300 chemical formula\n",
    "ChlPerCell = (13.9+4)/(1e7) # 13.9 +- 4 micrograms Chl/10^7 cells (Gfeller 1984)\n",
    "starchDegAnLight = (4.95+1.35)*(1/1000)*(1/CPerStarch300)*(ChlPerCell/1000)*(1/DW) # approx. SS rate of anaerobic starch degradation in light = 4.95 +- 1.35 micromol C/mg Chl/hr (Gfeller 1984)\n",
    "starchDegAerLight = (2/3)*(4.95+1.35)*(1/1000)*(1/CPerStarch300)*(ChlPerCell/1000)*(1/DW) # approx. SS rate of aerobic starch degradation in light = 2/3 of anaerobic rate (Gfeller 1984)\n",
    "starchDegAnDark = (13.1+3.5)*(1/1000)*(1/CPerStarch300)*(ChlPerCell/1000)*(1/DW) # approx. SS rate of anaerobic starch degradation in dark = 13.1 +- 3.5 micromol C/mg Chl/hr (Gfeller 1984)\n",
    "starchDegAerDark = (2/3)*starchDegAnDark # approx. SS rate of aerobic starch degradation in dark = 2/3 of anaerobic rate (Gfeller 1984) = 2/3 of anaerobic rate (Gfeller 1984)"
   ]
  },
  {
   "cell_type": "markdown",
   "metadata": {},
   "source": [
    "Running parsimonious FBA"
   ]
  },
  {
   "cell_type": "code",
   "execution_count": 5,
   "metadata": {},
   "outputs": [
    {
     "name": "stdout",
     "output_type": "stream",
     "text": [
      "pFBA status:  optimal\n",
      "pFBA solution:  617.5259773624224\n"
     ]
    }
   ],
   "source": [
    "model = cobra.io.read_sbml_model('iRC1080-Chapman2.xml')\n",
    "\n",
    "model.reactions.get_by_id(\"Biomass_Chlamy_auto\").objective_coefficient = 1\n",
    "model.reactions.get_by_id(\"Biomass_Chlamy_mixo\").objective_coefficient = 0\n",
    "model.reactions.get_by_id(\"Biomass_Chlamy_hetero\").objective_coefficient = 0\n",
    "\n",
    "model.reactions.get_by_id(\"PRISM_solar_litho\").upper_bound = 0\n",
    "model.reactions.get_by_id(\"PRISM_solar_litho\").lower_bound = 0\n",
    "model.reactions.get_by_id(\"PRISM_solar_exo\").upper_bound = 0\n",
    "model.reactions.get_by_id(\"PRISM_solar_exo\").lower_bound = 0\n",
    "model.reactions.get_by_id(\"PRISM_incandescent_60W\").upper_bound = 0\n",
    "model.reactions.get_by_id(\"PRISM_incandescent_60W\").lower_bound = 0\n",
    "model.reactions.get_by_id(\"PRISM_fluorescent_warm_18W\").upper_bound = 0\n",
    "model.reactions.get_by_id(\"PRISM_fluorescent_warm_18W\").lower_bound = 0\n",
    "model.reactions.get_by_id(\"PRISM_fluorescent_cool_215W\").upper_bound = 0\n",
    "model.reactions.get_by_id(\"PRISM_fluorescent_cool_215W\").lower_bound = 0\n",
    "model.reactions.get_by_id(\"PRISM_metal_halide\").upper_bound = 0\n",
    "model.reactions.get_by_id(\"PRISM_metal_halide\").lower_bound = 0\n",
    "model.reactions.get_by_id(\"PRISM_high_pressure_sodium\").upper_bound = 0\n",
    "model.reactions.get_by_id(\"PRISM_high_pressure_sodium\").lower_bound = 0\n",
    "model.reactions.get_by_id(\"PRISM_growth_room\").upper_bound = 0\n",
    "model.reactions.get_by_id(\"PRISM_growth_room\").lower_bound = 0\n",
    "#model.reactions.get_by_id(\"PRISM_white_LED\").upper_bound = 0\n",
    "#model.reactions.get_by_id(\"PRISM_white_LED\").lower_bound = 0\n",
    "model.reactions.get_by_id(\"PRISM_design_growth\").upper_bound = 10\n",
    "model.reactions.get_by_id(\"PRISM_design_growth\").lower_bound = 10\n",
    "\n",
    "model.reactions.get_by_id(\"EX_h_LPAREN_e_RPAREN_\").lower_bound = -10\n",
    "model.reactions.get_by_id(\"EX_h2o_LPAREN_e_RPAREN_\").lower_bound = -10\n",
    "model.reactions.get_by_id(\"EX_pi_LPAREN_e_RPAREN_\").lower_bound = -10\n",
    "model.reactions.get_by_id(\"EX_nh4_LPAREN_e_RPAREN_\").lower_bound = -10\n",
    "model.reactions.get_by_id(\"EX_no3_LPAREN_e_RPAREN_\").lower_bound = -10\n",
    "model.reactions.get_by_id(\"EX_so4_LPAREN_e_RPAREN_\").lower_bound = -10\n",
    "model.reactions.get_by_id(\"EX_o2_LPAREN_e_RPAREN_\").lower_bound = -10\n",
    "model.reactions.get_by_id(\"EX_ac_LPAREN_e_RPAREN_\").lower_bound = 0\n",
    "model.reactions.get_by_id(\"EX_ac_LPAREN_e_RPAREN_\").upper_bound = 0\n",
    "model.reactions.get_by_id(\"EX_starch_LPAREN_h_RPAREN_\").lower_bound = 0\n",
    "model.reactions.get_by_id(\"EX_starch_LPAREN_h_RPAREN_\").upper_bound = 0\n",
    "model.reactions.get_by_id(\"STARCH300DEGRA\").upper_bound = starchDegAerLight/2\n",
    "model.reactions.get_by_id(\"STARCH300DEGR2A\").upper_bound = 0\n",
    "model.reactions.get_by_id(\"STARCH300DEGRB\").upper_bound = starchDegAerLight/2\n",
    "model.reactions.get_by_id(\"STARCH300DEGR2B\").upper_bound = 0\n",
    "\n",
    "model.reactions.get_by_id(\"PCHLDR\").lower_bound = 0\n",
    "model.reactions.get_by_id(\"PCHLDR\").upper_bound = 0\n",
    "model.reactions.get_by_id(\"PFKh\").lower_bound = 0\n",
    "model.reactions.get_by_id(\"PFKh\").upper_bound = 0\n",
    "model.reactions.get_by_id(\"G6PADHh\").lower_bound = 0\n",
    "model.reactions.get_by_id(\"G6PADHh\").upper_bound = 0\n",
    "model.reactions.get_by_id(\"G6PBDHh\").lower_bound = 0\n",
    "model.reactions.get_by_id(\"G6PBDHh\").upper_bound = 0\n",
    "model.reactions.get_by_id(\"FBAh\").lower_bound = 0\n",
    "model.reactions.get_by_id(\"FBAh\").upper_bound = 0\n",
    "model.reactions.get_by_id(\"H2Oth\").upper_bound = 0\n",
    "#model.reactions.get_by_id(\"Biomass_Chlamy_mixo\").lower_bound = 0\n",
    "#model.reactions.get_by_id(\"Biomass_Chlamy_mixo\").upper_bound = 0\n",
    "#model.reactions.get_by_id(\"Biomass_Chlamy_hetero\").lower_bound = 0\n",
    "#model.reactions.get_by_id(\"Biomass_Chlamy_hetero\").upper_bound = 0\n",
    "\n",
    "LNA_sol = cobra.flux_analysis.parsimonious.optimize_minimal_flux(model)\n",
    "print(\"pFBA status: \", LNA_sol.status)\n",
    "print(\"pFBA solution: \", LNA_sol.objective_value)"
   ]
  },
  {
   "cell_type": "markdown",
   "metadata": {},
   "source": [
    "Detailed list of fluxes"
   ]
  },
  {
   "cell_type": "code",
   "execution_count": 6,
   "metadata": {},
   "outputs": [
    {
     "name": "stdout",
     "output_type": "stream",
     "text": [
      "PRISM_solar_litho                   0.000000\n",
      "PRISM_solar_exo                     0.000000\n",
      "PRISM_incandescent_60W              0.000000\n",
      "PRISM_fluorescent_warm_18W          0.000000\n",
      "PRISM_fluorescent_cool_215W         0.000000\n",
      "PRISM_metal_halide                  0.000000\n",
      "PRISM_high_pressure_sodium          0.000000\n",
      "PRISM_growth_room                   0.000000\n",
      "PRISM_white_LED                     4.591510\n",
      "PRISM_red_LED_array_653nm          96.628110\n",
      "PRISM_red_LED_674nm                 3.653000\n",
      "PRISM_design_growth                10.000000\n",
      "EX_h_LPAREN_e_RPAREN_               0.484505\n",
      "EX_h2o_LPAREN_e_RPAREN_            -4.026873\n",
      "EX_pi_LPAREN_e_RPAREN_             -0.139497\n",
      "EX_nh4_LPAREN_e_RPAREN_            -0.466046\n",
      "EX_no3_LPAREN_e_RPAREN_            -0.061373\n",
      "EX_so4_LPAREN_e_RPAREN_            -0.002606\n",
      "EX_fe2_LPAREN_e_RPAREN_             0.000000\n",
      "EX_fe3_LPAREN_e_RPAREN_             0.000000\n",
      "EX_mg2_LPAREN_e_RPAREN_            -0.003606\n",
      "EX_na1_LPAREN_e_RPAREN_            -1.092654\n",
      "EX_photonVis_LPAREN_e_RPAREN_    -114.872620\n",
      "EX_o2_LPAREN_e_RPAREN_             -1.490697\n",
      "EX_co2_LPAREN_e_RPAREN_            -5.435658\n",
      "EX_hco3_LPAREN_e_RPAREN_            0.000000\n",
      "EX_starch_LPAREN_h_RPAREN_          0.000000\n",
      "EX_ac_LPAREN_e_RPAREN_              0.000000\n",
      "EX_rib_DASH_D_LPAREN_e_RPAREN_      0.000000\n",
      "EX_no2_LPAREN_e_RPAREN_             0.000000\n",
      "                                     ...    \n",
      "MCTC                                0.000000\n",
      "MGC                                 0.000000\n",
      "MHGS                                0.000000\n",
      "MMSDH                               0.000000\n",
      "MOD                                 0.000000\n",
      "MOD_LPAREN_2mbdhl_RPAREN_           0.000000\n",
      "MOD_LPAREN_2mhop_RPAREN_            0.000000\n",
      "MOD_LPAREN_3mhtpp_RPAREN_           0.000000\n",
      "MOD_LPAREN_3mop_RPAREN_             0.000000\n",
      "MOD_LPAREN_4mop_RPAREN_             0.000000\n",
      "OIVD3m                              0.000000\n",
      "BCTA                                0.004429\n",
      "BCTA_LPAREN_glu_RPAREN_            -0.011154\n",
      "BCTA_LPAREN_glu_RPAREN_h            0.000000\n",
      "BCTA_LPAREN_val_RPAREN_             0.000000\n",
      "BCTA_LPAREN_val_RPAREN_h            0.011154\n",
      "BCTAh                               0.000000\n",
      "PDX5POi                             0.000000\n",
      "PDXPP                               0.000000\n",
      "PYAM5PO                             0.000000\n",
      "PYAMPP                              0.000000\n",
      "PYDAMK                              0.000000\n",
      "PYDXDH                              0.000000\n",
      "PYDXK                               0.000000\n",
      "PYDXNK                              0.000000\n",
      "PYDXNO                              0.000000\n",
      "PYDXO                               0.000000\n",
      "PYDXOR                              0.000000\n",
      "PYDXPP                              0.000000\n",
      "PYDXS                               0.000000\n",
      "Name: fluxes, Length: 2191, dtype: float64\n"
     ]
    }
   ],
   "source": [
    "print(LNA_sol.fluxes)"
   ]
  },
  {
   "cell_type": "code",
   "execution_count": null,
   "metadata": {
    "collapsed": true
   },
   "outputs": [],
   "source": []
  }
 ],
 "metadata": {
  "kernelspec": {
   "display_name": "Python 3",
   "language": "python",
   "name": "python3"
  },
  "language_info": {
   "codemirror_mode": {
    "name": "ipython",
    "version": 3
   },
   "file_extension": ".py",
   "mimetype": "text/x-python",
   "name": "python",
   "nbconvert_exporter": "python",
   "pygments_lexer": "ipython3",
   "version": "3.7.1"
  }
 },
 "nbformat": 4,
 "nbformat_minor": 1
}
